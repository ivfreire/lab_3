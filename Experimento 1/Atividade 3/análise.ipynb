{
 "cells": [
  {
   "cell_type": "markdown",
   "metadata": {},
   "source": [
    "# Análise de dados - Curva característica do diodo e do painel solar"
   ]
  },
  {
   "cell_type": "code",
   "execution_count": 1,
   "metadata": {},
   "outputs": [],
   "source": [
    "import numpy as np\n",
    "import matplotlib.pyplot as plt\n",
    "import pandas as pd\n",
    "import seaborn as sns\n",
    "\n",
    "from scipy.optimize import curve_fit\n",
    "from scipy.constants import e, k"
   ]
  },
  {
   "cell_type": "code",
   "execution_count": 2,
   "metadata": {},
   "outputs": [],
   "source": [
    "plt.rcParams['figure.figsize'] = (10, 8)\n",
    "plt.rcParams['figure.facecolor'] = 'white'\n",
    "sns.set_theme()"
   ]
  },
  {
   "cell_type": "markdown",
   "metadata": {},
   "source": [
    "## Diodo"
   ]
  },
  {
   "cell_type": "code",
   "execution_count": 3,
   "metadata": {},
   "outputs": [],
   "source": [
    "df_diodo = pd.read_csv('./Dados/diodo.csv')"
   ]
  },
  {
   "cell_type": "code",
   "execution_count": 68,
   "metadata": {},
   "outputs": [],
   "source": [
    "df_diodo['sCorrente'] = df_diodo['Corrente'] * 0 + 5E-6\n",
    "df_diodo['sTensao B'] = df_diodo['Corrente'] * 0 + 5E-6"
   ]
  },
  {
   "cell_type": "code",
   "execution_count": 69,
   "metadata": {},
   "outputs": [
    {
     "data": {
      "text/html": [
       "<div>\n",
       "<style scoped>\n",
       "    .dataframe tbody tr th:only-of-type {\n",
       "        vertical-align: middle;\n",
       "    }\n",
       "\n",
       "    .dataframe tbody tr th {\n",
       "        vertical-align: top;\n",
       "    }\n",
       "\n",
       "    .dataframe thead th {\n",
       "        text-align: right;\n",
       "    }\n",
       "</style>\n",
       "<table border=\"1\" class=\"dataframe\">\n",
       "  <thead>\n",
       "    <tr style=\"text-align: right;\">\n",
       "      <th></th>\n",
       "      <th>Tempo</th>\n",
       "      <th>Tensao A</th>\n",
       "      <th>Tensao B</th>\n",
       "      <th>Corrente</th>\n",
       "      <th>sCorrente</th>\n",
       "      <th>sTensao B</th>\n",
       "    </tr>\n",
       "  </thead>\n",
       "  <tbody>\n",
       "    <tr>\n",
       "      <th>count</th>\n",
       "      <td>369.000000</td>\n",
       "      <td>369.000000</td>\n",
       "      <td>369.000000</td>\n",
       "      <td>3.690000e+02</td>\n",
       "      <td>369.000000</td>\n",
       "      <td>369.000000</td>\n",
       "    </tr>\n",
       "    <tr>\n",
       "      <th>mean</th>\n",
       "      <td>9.200000</td>\n",
       "      <td>0.055600</td>\n",
       "      <td>1.568553</td>\n",
       "      <td>1.684702e-04</td>\n",
       "      <td>0.000005</td>\n",
       "      <td>0.000005</td>\n",
       "    </tr>\n",
       "    <tr>\n",
       "      <th>std</th>\n",
       "      <td>5.333268</td>\n",
       "      <td>0.087101</td>\n",
       "      <td>0.861819</td>\n",
       "      <td>2.638973e-04</td>\n",
       "      <td>0.000000</td>\n",
       "      <td>0.000000</td>\n",
       "    </tr>\n",
       "    <tr>\n",
       "      <th>min</th>\n",
       "      <td>0.000000</td>\n",
       "      <td>0.000156</td>\n",
       "      <td>0.037000</td>\n",
       "      <td>4.730000e-07</td>\n",
       "      <td>0.000005</td>\n",
       "      <td>0.000005</td>\n",
       "    </tr>\n",
       "    <tr>\n",
       "      <th>25%</th>\n",
       "      <td>4.600000</td>\n",
       "      <td>0.000436</td>\n",
       "      <td>0.799000</td>\n",
       "      <td>1.320000e-06</td>\n",
       "      <td>0.000005</td>\n",
       "      <td>0.000005</td>\n",
       "    </tr>\n",
       "    <tr>\n",
       "      <th>50%</th>\n",
       "      <td>9.200000</td>\n",
       "      <td>0.000726</td>\n",
       "      <td>1.644000</td>\n",
       "      <td>2.200000e-06</td>\n",
       "      <td>0.000005</td>\n",
       "      <td>0.000005</td>\n",
       "    </tr>\n",
       "    <tr>\n",
       "      <th>75%</th>\n",
       "      <td>13.800000</td>\n",
       "      <td>0.131000</td>\n",
       "      <td>2.512000</td>\n",
       "      <td>3.960000e-04</td>\n",
       "      <td>0.000005</td>\n",
       "      <td>0.000005</td>\n",
       "    </tr>\n",
       "    <tr>\n",
       "      <th>max</th>\n",
       "      <td>18.400000</td>\n",
       "      <td>0.208000</td>\n",
       "      <td>2.537000</td>\n",
       "      <td>6.290000e-04</td>\n",
       "      <td>0.000005</td>\n",
       "      <td>0.000005</td>\n",
       "    </tr>\n",
       "  </tbody>\n",
       "</table>\n",
       "</div>"
      ],
      "text/plain": [
       "            Tempo    Tensao A    Tensao B      Corrente   sCorrente  \\\n",
       "count  369.000000  369.000000  369.000000  3.690000e+02  369.000000   \n",
       "mean     9.200000    0.055600    1.568553  1.684702e-04    0.000005   \n",
       "std      5.333268    0.087101    0.861819  2.638973e-04    0.000000   \n",
       "min      0.000000    0.000156    0.037000  4.730000e-07    0.000005   \n",
       "25%      4.600000    0.000436    0.799000  1.320000e-06    0.000005   \n",
       "50%      9.200000    0.000726    1.644000  2.200000e-06    0.000005   \n",
       "75%     13.800000    0.131000    2.512000  3.960000e-04    0.000005   \n",
       "max     18.400000    0.208000    2.537000  6.290000e-04    0.000005   \n",
       "\n",
       "        sTensao B  \n",
       "count  369.000000  \n",
       "mean     0.000005  \n",
       "std      0.000000  \n",
       "min      0.000005  \n",
       "25%      0.000005  \n",
       "50%      0.000005  \n",
       "75%      0.000005  \n",
       "max      0.000005  "
      ]
     },
     "execution_count": 69,
     "metadata": {},
     "output_type": "execute_result"
    }
   ],
   "source": [
    "df_diodo.describe()"
   ]
  },
  {
   "cell_type": "code",
   "execution_count": 70,
   "metadata": {},
   "outputs": [],
   "source": [
    "R = 330.2, 0.1\t# Resistência e incerteza"
   ]
  },
  {
   "cell_type": "code",
   "execution_count": 173,
   "metadata": {},
   "outputs": [],
   "source": [
    "df_fit = df_diodo.loc[(df_diodo['Tensao B'] > 2.30) & (df_diodo['Tensao B'] < 2.55)]"
   ]
  },
  {
   "cell_type": "code",
   "execution_count": 174,
   "metadata": {},
   "outputs": [],
   "source": [
    "popt, pcov = curve_fit(\n",
    "\tlambda x, I, b: I * (np.exp(b * x) - 1),\n",
    "\txdata=df_fit['Tensao B'],\n",
    "\tydata=df_fit['Corrente'],\n",
    "\tp0=[ 2.64183898e-45, e/(k*300) ],\n",
    "\tmaxfev=100000\n",
    ")"
   ]
  },
  {
   "cell_type": "code",
   "execution_count": 175,
   "metadata": {},
   "outputs": [
    {
     "data": {
      "text/plain": [
       "array([1.76818156e-25, 1.95586470e+01])"
      ]
     },
     "execution_count": 175,
     "metadata": {},
     "output_type": "execute_result"
    }
   ],
   "source": [
    "popt"
   ]
  },
  {
   "cell_type": "code",
   "execution_count": 176,
   "metadata": {},
   "outputs": [
    {
     "data": {
      "image/png": "[encoded data removed]",
      "text/plain": [
       "<Figure size 720x576 with 2 Axes>"
      ]
     },
     "metadata": {},
     "output_type": "display_data"
    }
   ],
   "source": [
    "fig, axs = plt.subplots(2, sharex=True, gridspec_kw={ 'height_ratios': (3,1), 'hspace': 0.05 })\n",
    "plt.suptitle('Curva característica do diodo.')\n",
    "\n",
    "\n",
    "axs[0].errorbar(\n",
    "\tx=df_fit['Tensao B'],\n",
    "\ty=df_fit['Corrente'] * 1E6,\n",
    "\txerr=df_fit['sTensao B'],\n",
    "\tyerr=df_fit['sCorrente'],\n",
    "\tfmt=' ', marker='.', color='black'\n",
    ")\n",
    "\n",
    "x = np.linspace(0, 2.6, 1000)\n",
    "sns.lineplot(x=x, y=(popt[0] * (np.exp(popt[1] * x) - 1))*1E6, color='red', ax=axs[0])\n",
    "\n",
    "axs[1].errorbar(\n",
    "\tx=df_fit['Tensao B'],\n",
    "\ty=(df_fit['Corrente'] - popt[0]*(np.exp(popt[1]*df_fit['Tensao B']) - 1))  / df_fit['sCorrente'],\n",
    "\txerr=df_fit['sTensao B'],\n",
    "\tyerr=1,\n",
    "\tfmt=' ', marker='.', color='black'\n",
    ")\n",
    "\n",
    "axs[0].set_ylabel('Corrente ($\\mu A$)')\n",
    "axs[0].set_xlim(2.30, 2.55)\n",
    "axs[0].set_ylim(1E-1, 0.7E3)\n",
    "\n",
    "axs[1].set_ylabel('Resíduos')\n",
    "axs[1].set_xlabel('Tensão (V)')\n",
    "\n",
    "plt.show()"
   ]
  },
  {
   "cell_type": "code",
   "execution_count": 177,
   "metadata": {},
   "outputs": [
    {
     "data": {
      "text/plain": [
       "320.3190633679212"
      ]
     },
     "execution_count": 177,
     "metadata": {},
     "output_type": "execute_result"
    }
   ],
   "source": [
    "e/(k*popt[1]) - 273"
   ]
  },
  {
   "cell_type": "code",
   "execution_count": 178,
   "metadata": {},
   "outputs": [
    {
     "data": {
      "text/plain": [
       "0.9835009990062942"
      ]
     },
     "execution_count": 178,
     "metadata": {},
     "output_type": "execute_result"
    }
   ],
   "source": [
    "np.sum( ( df_fit['Corrente'] - popt[0]*(np.exp(popt[1]*df_fit['Tensao B'])-1) )**2/ (df_fit['sCorrente'])**2 ) / df_fit.shape[0]"
   ]
  },
  {
   "cell_type": "markdown",
   "metadata": {},
   "source": [
    "## Painel Solar"
   ]
  },
  {
   "cell_type": "code",
   "execution_count": 65,
   "metadata": {},
   "outputs": [],
   "source": [
    "df_painel = pd.read_csv('./Dados/painel_solar.csv')"
   ]
  },
  {
   "cell_type": "code",
   "execution_count": 66,
   "metadata": {},
   "outputs": [
    {
     "name": "stdout",
     "output_type": "stream",
     "text": [
      "<class 'pandas.core.frame.DataFrame'>\n",
      "RangeIndex: 779 entries, 0 to 778\n",
      "Data columns (total 4 columns):\n",
      " #   Column    Non-Null Count  Dtype  \n",
      "---  ------    --------------  -----  \n",
      " 0   Tempo     779 non-null    float64\n",
      " 1   Tensao A  779 non-null    float64\n",
      " 2   Tensao B  779 non-null    float64\n",
      " 3   Corrente  779 non-null    float64\n",
      "dtypes: float64(4)\n",
      "memory usage: 24.5 KB\n"
     ]
    }
   ],
   "source": [
    "df_painel.info()"
   ]
  },
  {
   "cell_type": "code",
   "execution_count": 67,
   "metadata": {},
   "outputs": [],
   "source": [
    "R = 4.7, 0.05"
   ]
  },
  {
   "cell_type": "code",
   "execution_count": 68,
   "metadata": {},
   "outputs": [],
   "source": [
    "df_painel['Corrente'] = df_painel['Tensao A'] / R[0]"
   ]
  },
  {
   "cell_type": "code",
   "execution_count": 70,
   "metadata": {},
   "outputs": [
    {
     "name": "stderr",
     "output_type": "stream",
     "text": [
      "/home/ivfreire/.local/lib/python3.10/site-packages/seaborn/_decorators.py:36: FutureWarning: Pass the following variables as keyword args: x, y. From version 0.12, the only valid positional argument will be `data`, and passing other arguments without an explicit keyword will result in an error or misinterpretation.\n",
      "  warnings.warn(\n"
     ]
    },
    {
     "data": {
      "image/png": "[encoded data removed]",
      "text/plain": [
       "<Figure size 720x576 with 1 Axes>"
      ]
     },
     "metadata": {},
     "output_type": "display_data"
    }
   ],
   "source": [
    "sns.scatterplot(df_painel['Tensao B'], df_painel['Corrente'])\n",
    "plt.show()"
   ]
  },
  {
   "cell_type": "code",
   "execution_count": null,
   "metadata": {},
   "outputs": [],
   "source": []
  }
 ],
 "metadata": {
  "kernelspec": {
   "display_name": "Python 3 (ipykernel)",
   "language": "python",
   "name": "python3"
  },
  "language_info": {
   "codemirror_mode": {
    "name": "ipython",
    "version": 3
   },
   "file_extension": ".py",
   "mimetype": "text/x-python",
   "name": "python",
   "nbconvert_exporter": "python",
   "pygments_lexer": "ipython3",
   "version": "3.10.9"
  },
  "vscode": {
   "interpreter": {
    "hash": "e7370f93d1d0cde622a1f8e1c04877d8463912d04d973331ad4851f04de6915a"
   }
  }
 },
 "nbformat": 4,
 "nbformat_minor": 4
}
