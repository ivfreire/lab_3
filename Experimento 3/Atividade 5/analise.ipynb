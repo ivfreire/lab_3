{
 "cells": [
  {
   "cell_type": "markdown",
   "metadata": {},
   "source": [
    "# Mapeamento do Campo Magnético Local"
   ]
  },
  {
   "cell_type": "code",
   "execution_count": 1,
   "metadata": {},
   "outputs": [],
   "source": [
    "import numpy as np\n",
    "import matplotlib.pyplot as plt\n",
    "import seaborn as sns\n",
    "import pandas as pd\n",
    "\n",
    "from scipy.optimize import curve_fit"
   ]
  },
  {
   "cell_type": "code",
   "execution_count": 2,
   "metadata": {},
   "outputs": [],
   "source": [
    "sns.set_theme()"
   ]
  },
  {
   "cell_type": "code",
   "execution_count": 3,
   "metadata": {},
   "outputs": [],
   "source": [
    "data = pd.read_csv('dados.txt', sep='\\t', decimal=',')\n",
    "data['Sigma h (mm)'] *= 10 * 0.5\n",
    "data['Orientação (rad)'] = np.radians(data['Orientação (°)'])\n",
    "data['Sigma Orientação (rad)'] = np.radians(data['Sigma orientação (°)'])"
   ]
  },
  {
   "cell_type": "code",
   "execution_count": 4,
   "metadata": {},
   "outputs": [
    {
     "data": {
      "text/html": [
       "<div>\n",
       "<style scoped>\n",
       "    .dataframe tbody tr th:only-of-type {\n",
       "        vertical-align: middle;\n",
       "    }\n",
       "\n",
       "    .dataframe tbody tr th {\n",
       "        vertical-align: top;\n",
       "    }\n",
       "\n",
       "    .dataframe thead th {\n",
       "        text-align: right;\n",
       "    }\n",
       "</style>\n",
       "<table border=\"1\" class=\"dataframe\">\n",
       "  <thead>\n",
       "    <tr style=\"text-align: right;\">\n",
       "      <th></th>\n",
       "      <th>h_H (mm)</th>\n",
       "      <th>h_V (mm)</th>\n",
       "      <th>Orientação (°)</th>\n",
       "      <th>Sigma h (mm)</th>\n",
       "      <th>Sigma orientação (°)</th>\n",
       "      <th>Orientação (rad)</th>\n",
       "      <th>Sigma Orientação (rad)</th>\n",
       "    </tr>\n",
       "  </thead>\n",
       "  <tbody>\n",
       "    <tr>\n",
       "      <th>0</th>\n",
       "      <td>3.0</td>\n",
       "      <td>0.0</td>\n",
       "      <td>10.0</td>\n",
       "      <td>0.5</td>\n",
       "      <td>2.0</td>\n",
       "      <td>0.174533</td>\n",
       "      <td>0.034907</td>\n",
       "    </tr>\n",
       "    <tr>\n",
       "      <th>1</th>\n",
       "      <td>3.0</td>\n",
       "      <td>2.0</td>\n",
       "      <td>30.0</td>\n",
       "      <td>0.5</td>\n",
       "      <td>2.0</td>\n",
       "      <td>0.523599</td>\n",
       "      <td>0.034907</td>\n",
       "    </tr>\n",
       "    <tr>\n",
       "      <th>2</th>\n",
       "      <td>3.0</td>\n",
       "      <td>4.0</td>\n",
       "      <td>47.0</td>\n",
       "      <td>0.5</td>\n",
       "      <td>2.0</td>\n",
       "      <td>0.820305</td>\n",
       "      <td>0.034907</td>\n",
       "    </tr>\n",
       "    <tr>\n",
       "      <th>3</th>\n",
       "      <td>3.0</td>\n",
       "      <td>6.0</td>\n",
       "      <td>78.0</td>\n",
       "      <td>0.5</td>\n",
       "      <td>2.0</td>\n",
       "      <td>1.361357</td>\n",
       "      <td>0.034907</td>\n",
       "    </tr>\n",
       "    <tr>\n",
       "      <th>4</th>\n",
       "      <td>3.0</td>\n",
       "      <td>7.0</td>\n",
       "      <td>110.2</td>\n",
       "      <td>0.5</td>\n",
       "      <td>2.0</td>\n",
       "      <td>1.923353</td>\n",
       "      <td>0.034907</td>\n",
       "    </tr>\n",
       "    <tr>\n",
       "      <th>5</th>\n",
       "      <td>3.0</td>\n",
       "      <td>-2.0</td>\n",
       "      <td>0.0</td>\n",
       "      <td>0.5</td>\n",
       "      <td>2.0</td>\n",
       "      <td>0.000000</td>\n",
       "      <td>0.034907</td>\n",
       "    </tr>\n",
       "    <tr>\n",
       "      <th>6</th>\n",
       "      <td>3.0</td>\n",
       "      <td>-4.0</td>\n",
       "      <td>-19.0</td>\n",
       "      <td>0.5</td>\n",
       "      <td>2.0</td>\n",
       "      <td>-0.331613</td>\n",
       "      <td>0.034907</td>\n",
       "    </tr>\n",
       "    <tr>\n",
       "      <th>7</th>\n",
       "      <td>3.0</td>\n",
       "      <td>-6.0</td>\n",
       "      <td>-53.0</td>\n",
       "      <td>0.5</td>\n",
       "      <td>2.0</td>\n",
       "      <td>-0.925025</td>\n",
       "      <td>0.034907</td>\n",
       "    </tr>\n",
       "    <tr>\n",
       "      <th>8</th>\n",
       "      <td>3.0</td>\n",
       "      <td>-7.0</td>\n",
       "      <td>-72.0</td>\n",
       "      <td>0.5</td>\n",
       "      <td>2.0</td>\n",
       "      <td>-1.256637</td>\n",
       "      <td>0.034907</td>\n",
       "    </tr>\n",
       "  </tbody>\n",
       "</table>\n",
       "</div>"
      ],
      "text/plain": [
       "   h_H (mm)  h_V (mm)  Orientação (°)  Sigma h (mm)  Sigma orientação (°)   \n",
       "0       3.0       0.0            10.0           0.5                   2.0  \\\n",
       "1       3.0       2.0            30.0           0.5                   2.0   \n",
       "2       3.0       4.0            47.0           0.5                   2.0   \n",
       "3       3.0       6.0            78.0           0.5                   2.0   \n",
       "4       3.0       7.0           110.2           0.5                   2.0   \n",
       "5       3.0      -2.0             0.0           0.5                   2.0   \n",
       "6       3.0      -4.0           -19.0           0.5                   2.0   \n",
       "7       3.0      -6.0           -53.0           0.5                   2.0   \n",
       "8       3.0      -7.0           -72.0           0.5                   2.0   \n",
       "\n",
       "   Orientação (rad)  Sigma Orientação (rad)  \n",
       "0          0.174533                0.034907  \n",
       "1          0.523599                0.034907  \n",
       "2          0.820305                0.034907  \n",
       "3          1.361357                0.034907  \n",
       "4          1.923353                0.034907  \n",
       "5          0.000000                0.034907  \n",
       "6         -0.331613                0.034907  \n",
       "7         -0.925025                0.034907  \n",
       "8         -1.256637                0.034907  "
      ]
     },
     "execution_count": 4,
     "metadata": {},
     "output_type": "execute_result"
    }
   ],
   "source": [
    "data"
   ]
  },
  {
   "cell_type": "code",
   "execution_count": 29,
   "metadata": {},
   "outputs": [],
   "source": [
    "def sine(x, H, A, f): return H + A * np.sin(x + f)"
   ]
  },
  {
   "cell_type": "code",
   "execution_count": 34,
   "metadata": {},
   "outputs": [],
   "source": [
    "popt, pcov = curve_fit(\n",
    "\tsine,\n",
    "\txdata=data['Orientação (rad)'],\n",
    "\tydata=data['h_V (mm)']\n",
    ")"
   ]
  },
  {
   "cell_type": "code",
   "execution_count": 35,
   "metadata": {},
   "outputs": [
    {
     "name": "stdout",
     "output_type": "stream",
     "text": [
      "PARAM[0]:\t0.03446402905812581\t0.1991894811721648\n",
      "PARAM[1]:\t6.921592704779625\t0.15691429491185846\n",
      "PARAM[2]:\t-6.524501787541227\t0.040155067639393534\n"
     ]
    }
   ],
   "source": [
    "for i in range(3):\n",
    "\tprint(f'PARAM[{i}]:\\t{popt[i]}\\t{np.sqrt(pcov[i][i])}')"
   ]
  },
  {
   "cell_type": "code",
   "execution_count": 36,
   "metadata": {},
   "outputs": [
    {
     "data": {
      "text/plain": [
       "(13.82641585167363, 2.300715901799599)"
      ]
     },
     "execution_count": 36,
     "metadata": {},
     "output_type": "execute_result"
    }
   ],
   "source": [
    "-np.degrees(popt[2])-360, np.degrees(np.sqrt(pcov[2,2]))"
   ]
  },
  {
   "cell_type": "code",
   "execution_count": 38,
   "metadata": {},
   "outputs": [
    {
     "data": {
      "image/png": "[encoded data removed]",
      "text/plain": [
       "<Figure size 640x480 with 2 Axes>"
      ]
     },
     "metadata": {},
     "output_type": "display_data"
    }
   ],
   "source": [
    "fig, axs = plt.subplots(2, sharex=True, gridspec_kw={ 'height_ratios': (4,1), 'hspace': 0.05 })\n",
    "plt.suptitle('Dados de deslocamento vertical pela orientação do TRC.')\n",
    "\n",
    "axs[0].vlines(x=0, ymin=-10, ymax=10, color='gray')\n",
    "axs[0].hlines(y=0, xmin=-2, xmax=2, color='gray')\n",
    "\n",
    "x = np.linspace(-2, 2, 1000)\n",
    "sns.lineplot(x=x, y=sine(x, popt[0], popt[1], popt[2]), ax=axs[0], label=f\"Ajuste: $\\\\varphi={360+np.degrees(popt[2]):.1f}\\\\degree$\", color='red')\n",
    "\n",
    "axs[0].errorbar(\n",
    "\tx=data['Orientação (rad)'],\n",
    "\ty=data['h_V (mm)'],\n",
    "\tyerr=data['Sigma h (mm)'],\n",
    "\tfmt=' ', marker='+', color='black', capsize=2, label='Dados'\n",
    ")\n",
    "\n",
    "axs[1].errorbar(\n",
    "\tx=data['Orientação (rad)'],\n",
    "\ty=(data['h_V (mm)'] - sine(data['Orientação (rad)'], popt[0], popt[1], popt[2])) / data['Sigma h (mm)'],\n",
    "\tyerr=1,\n",
    "\tfmt=' ', marker='+', color='black', capsize=2\n",
    ")\n",
    "\n",
    "axs[0].legend()\n",
    "axs[0].set(ylim=(-9, 9), ylabel='$h$ ($mm$)')\n",
    "axs[1].set(xlim=(-1.5, 2), ylim=(-2.5, 2.5), xlabel='$\\\\theta$ ($rad$)', ylabel='Resíduos')\n",
    "\n",
    "plt.savefig('sine_fit.png', dpi=300, bbox_inches='tight')\n",
    "plt.show()"
   ]
  },
  {
   "cell_type": "code",
   "execution_count": 42,
   "metadata": {},
   "outputs": [
    {
     "data": {
      "text/plain": [
       "6"
      ]
     },
     "execution_count": 42,
     "metadata": {},
     "output_type": "execute_result"
    }
   ],
   "source": [
    "ngl = len(data) - 3\n",
    "ngl"
   ]
  },
  {
   "cell_type": "code",
   "execution_count": 43,
   "metadata": {},
   "outputs": [
    {
     "data": {
      "text/plain": [
       "2.572224934525034"
      ]
     },
     "execution_count": 43,
     "metadata": {},
     "output_type": "execute_result"
    }
   ],
   "source": [
    "chi2 = np.sum( (data['h_V (mm)'] - sine(data['Orientação (rad)'], popt[0], popt[1], popt[2]))**2 / data['Sigma h (mm)']**2 )\n",
    "chi2"
   ]
  },
  {
   "cell_type": "code",
   "execution_count": null,
   "metadata": {},
   "outputs": [],
   "source": []
  }
 ],
 "metadata": {
  "kernelspec": {
   "display_name": "Python 3.11.3 64-bit",
   "language": "python",
   "name": "python3"
  },
  "language_info": {
   "codemirror_mode": {
    "name": "ipython",
    "version": 3
   },
   "file_extension": ".py",
   "mimetype": "text/x-python",
   "name": "python",
   "nbconvert_exporter": "python",
   "pygments_lexer": "ipython3",
   "version": "3.11.3"
  },
  "orig_nbformat": 4,
  "vscode": {
   "interpreter": {
    "hash": "e7370f93d1d0cde622a1f8e1c04877d8463912d04d973331ad4851f04de6915a"
   }
  }
 },
 "nbformat": 4,
 "nbformat_minor": 2
}
