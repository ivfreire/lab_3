{
 "cells": [
  {
   "cell_type": "markdown",
   "id": "a0e2371b-ba3e-470e-a257-4a540f63b9db",
   "metadata": {},
   "source": [
    "# Estudo e Caracterização do Filtro RC"
   ]
  },
  {
   "cell_type": "code",
   "execution_count": null,
   "id": "a3089127-7f15-41ad-a373-9bf891cc64d8",
   "metadata": {},
   "outputs": [],
   "source": [
    "import numpy as np\n",
    "import matplotlib.pyplot\n",
    "import seaborn as sns\n",
    "import pandas as pd"
   ]
  }
 ],
 "metadata": {
  "kernelspec": {
   "display_name": "Python 3 (ipykernel)",
   "language": "python",
   "name": "python3"
  },
  "language_info": {
   "codemirror_mode": {
    "name": "ipython",
    "version": 3
   },
   "file_extension": ".py",
   "mimetype": "text/x-python",
   "name": "python",
   "nbconvert_exporter": "python",
   "pygments_lexer": "ipython3",
   "version": "3.10.9"
  }
 },
 "nbformat": 4,
 "nbformat_minor": 5
}
